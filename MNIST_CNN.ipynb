{
  "nbformat": 4,
  "nbformat_minor": 0,
  "metadata": {
    "colab": {
      "name": "MNIST_CNN.ipynb",
      "provenance": []
    },
    "kernelspec": {
      "display_name": "Python 2",
      "language": "python",
      "name": "python2"
    },
    "language_info": {
      "codemirror_mode": {
        "name": "ipython",
        "version": 2
      },
      "file_extension": ".py",
      "mimetype": "text/x-python",
      "name": "python",
      "nbconvert_exporter": "python",
      "pygments_lexer": "ipython2",
      "version": "2.7.16"
    },
    "accelerator": "GPU"
  },
  "cells": [
    {
      "cell_type": "markdown",
      "metadata": {
        "id": "yral49KVlzqj",
        "colab_type": "text"
      },
      "source": [
        "# Classification of the MNIST dataset using convolutional neural networks (CNNs)\n",
        "*Nicola Piovesan, 2020*\n",
        "\n",
        "This jupyter notebook shows an example of application of __convolutional neural networks (CNNs)__ to perform image classification. In particular, this powerful machine learning tool is applied to the famous MNIST dataset, which contains handwritten digits. The CNN implemented here allows __reaching a 99% classification accuracy__."
      ]
    },
    {
      "cell_type": "code",
      "metadata": {
        "colab_type": "code",
        "id": "tWa4r15OmaHH",
        "colab": {}
      },
      "source": [
        "# import the needed libraries\n",
        "import tensorflow as tf\n",
        "from tensorflow import keras\n",
        "import numpy as np\n",
        "import matplotlib.pyplot as plt\n",
        "from tensorflow.keras import Sequential\n",
        "from tensorflow.keras.layers import Conv2D, MaxPooling2D, Flatten, Dense, Dropout\n",
        "from tensorflow.keras.utils import to_categorical"
      ],
      "execution_count": 0,
      "outputs": []
    },
    {
      "cell_type": "markdown",
      "metadata": {
        "id": "DQdJjrFxm4u0",
        "colab_type": "text"
      },
      "source": [
        "# The MNIST dataset\n",
        "\n",
        "The MNIST dataset contains __60,000 training images__and __10,000 testing images__. The images have dimension 28x28 pixels and they are in gray scale (i.e., each pixel takes values in [0,255]). "
      ]
    },
    {
      "cell_type": "code",
      "metadata": {
        "colab_type": "code",
        "id": "YUhZYUumoPSe",
        "colab": {}
      },
      "source": [
        "# Import the training and validation sets\n",
        "mnist = keras.datasets.mnist\n",
        "(x_train, y_train), (x_test, y_test) = mnist.load_data()"
      ],
      "execution_count": 0,
      "outputs": []
    },
    {
      "cell_type": "markdown",
      "metadata": {
        "id": "LCU2BoGaoWCe",
        "colab_type": "text"
      },
      "source": [
        "The following picture shows the first 16 images contained in the training set."
      ]
    },
    {
      "cell_type": "code",
      "metadata": {
        "colab_type": "code",
        "id": "tejAR7GBo0vA",
        "outputId": "61ea7b1d-79cd-4d4d-d7af-fc206e4d52f4",
        "colab": {
          "base_uri": "https://localhost:8080/",
          "height": 269
        }
      },
      "source": [
        "for i in range(0,16):\n",
        "  plt.subplot(4,4,i+1)\n",
        "  plt.imshow(x_train[i,:,:])\n",
        "  plt.axis('off');"
      ],
      "execution_count": 3,
      "outputs": [
        {
          "output_type": "display_data",
          "data": {
            "image/png": "[encoded data removed]",
            "text/plain": [
              "<Figure size 432x288 with 16 Axes>"
            ]
          },
          "metadata": {
            "tags": [],
            "needs_background": "light"
          }
        }
      ]
    },
    {
      "cell_type": "markdown",
      "metadata": {
        "id": "FEylNwd1orsC",
        "colab_type": "text"
      },
      "source": [
        "Some __preprocessing__ is needed. In particular, we need to:\n",
        " \n",
        "1.   __reshape__ the images matrices to have a tensor of dimension 28x28x1 that will be the input of the CNN;\n",
        "2.   __normalize__ the tensor elements to take values in [0,1];\n",
        "3.   map the label value to a __one-hot-encoding vector__ that will be the output of the CNN."
      ]
    },
    {
      "cell_type": "code",
      "metadata": {
        "colab_type": "code",
        "id": "WFmBy8sJqROe",
        "colab": {}
      },
      "source": [
        "# reshape\n",
        "x_train2=x_train.reshape((60000,28,28,1))\n",
        "x_test2=x_test.reshape((10000,28,28,1))\n",
        "# normalize\n",
        "x_train2=x_train2.astype('float32')/255\n",
        "x_test2=x_test2.astype('float32')/255\n",
        "# one-hot encoding\n",
        "y_train2=to_categorical(y_train)\n",
        "y_test2=to_categorical(y_test)"
      ],
      "execution_count": 0,
      "outputs": []
    },
    {
      "cell_type": "markdown",
      "metadata": {
        "id": "irl13sU5qWc6",
        "colab_type": "text"
      },
      "source": [
        "# Design of the convolutional neural network\n",
        "\n",
        "In the following, we design the CNN and we show a summary of its architecture."
      ]
    },
    {
      "cell_type": "code",
      "metadata": {
        "colab_type": "code",
        "id": "IV6PbT4Qm6L3",
        "outputId": "4e563872-1d0d-4cf6-b491-bf9449d1f316",
        "colab": {
          "base_uri": "https://localhost:8080/",
          "height": 493
        }
      },
      "source": [
        "model = Sequential()\n",
        "model.add(Conv2D(32,(3,3),strides=1,padding='same',activation='relu',input_shape=(28,28,1)))\n",
        "model.add(Dropout(0.25))\n",
        "model.add(MaxPooling2D((2,2),strides=2))\n",
        "model.add(Conv2D(64,(3,3),strides=1,padding='same',activation='relu'))\n",
        "model.add(Dropout(0.25))\n",
        "model.add(MaxPooling2D((2,2),strides=2))\n",
        "model.add(Flatten())\n",
        "model.add(Dense(128,activation='relu'))\n",
        "model.add(Dropout(0.25))\n",
        "model.add(Dense(10,activation='softmax'))\n",
        "model.summary()"
      ],
      "execution_count": 5,
      "outputs": [
        {
          "output_type": "stream",
          "text": [
            "Model: \"sequential\"\n",
            "_________________________________________________________________\n",
            "Layer (type)                 Output Shape              Param #   \n",
            "=================================================================\n",
            "conv2d (Conv2D)              (None, 28, 28, 32)        320       \n",
            "_________________________________________________________________\n",
            "dropout (Dropout)            (None, 28, 28, 32)        0         \n",
            "_________________________________________________________________\n",
            "max_pooling2d (MaxPooling2D) (None, 14, 14, 32)        0         \n",
            "_________________________________________________________________\n",
            "conv2d_1 (Conv2D)            (None, 14, 14, 64)        18496     \n",
            "_________________________________________________________________\n",
            "dropout_1 (Dropout)          (None, 14, 14, 64)        0         \n",
            "_________________________________________________________________\n",
            "max_pooling2d_1 (MaxPooling2 (None, 7, 7, 64)          0         \n",
            "_________________________________________________________________\n",
            "flatten (Flatten)            (None, 3136)              0         \n",
            "_________________________________________________________________\n",
            "dense (Dense)                (None, 128)               401536    \n",
            "_________________________________________________________________\n",
            "dropout_2 (Dropout)          (None, 128)               0         \n",
            "_________________________________________________________________\n",
            "dense_1 (Dense)              (None, 10)                1290      \n",
            "=================================================================\n",
            "Total params: 421,642\n",
            "Trainable params: 421,642\n",
            "Non-trainable params: 0\n",
            "_________________________________________________________________\n"
          ],
          "name": "stdout"
        }
      ]
    },
    {
      "cell_type": "markdown",
      "metadata": {
        "id": "JZj5v5AtqpdU",
        "colab_type": "text"
      },
      "source": [
        "The CNN is then compiled. We use the __stochastic gradient descent__ optimizer and the goal is to minimize the __categorical crossentropy__."
      ]
    },
    {
      "cell_type": "code",
      "metadata": {
        "colab_type": "code",
        "id": "ejkKzN7UrnOK",
        "colab": {}
      },
      "source": [
        "model.compile(optimizer='sgd',metrics=['accuracy'],loss='categorical_crossentropy')"
      ],
      "execution_count": 0,
      "outputs": []
    },
    {
      "cell_type": "markdown",
      "metadata": {
        "id": "4fqzTmvDq9in",
        "colab_type": "text"
      },
      "source": [
        "## Training of the CNN model\n",
        "\n",
        "The CNN is then trained for 50 epochs using a batch of size 100."
      ]
    },
    {
      "cell_type": "code",
      "metadata": {
        "colab_type": "code",
        "id": "-kC7CIV2r2N4",
        "colab": {
          "base_uri": "https://localhost:8080/",
          "height": 1000
        },
        "outputId": "dc87dee3-86d4-4ac3-8d0f-e9cb66606529"
      },
      "source": [
        "history=model.fit(x_train2,y_train2,validation_data=(x_test2,y_test2),batch_size=100,epochs=50,verbose=1)"
      ],
      "execution_count": 7,
      "outputs": [
        {
          "output_type": "stream",
          "text": [
            "Train on 60000 samples, validate on 10000 samples\n",
            "Epoch 1/50\n",
            "60000/60000 [==============================] - 8s 134us/sample - loss: 0.8817 - accuracy: 0.7287 - val_loss: 0.4331 - val_accuracy: 0.9110\n",
            "Epoch 2/50\n",
            "60000/60000 [==============================] - 6s 107us/sample - loss: 0.2991 - accuracy: 0.9104 - val_loss: 0.2827 - val_accuracy: 0.9439\n",
            "Epoch 3/50\n",
            "60000/60000 [==============================] - 6s 106us/sample - loss: 0.2230 - accuracy: 0.9323 - val_loss: 0.2274 - val_accuracy: 0.9557\n",
            "Epoch 4/50\n",
            "60000/60000 [==============================] - 6s 106us/sample - loss: 0.1848 - accuracy: 0.9435 - val_loss: 0.1778 - val_accuracy: 0.9647\n",
            "Epoch 5/50\n",
            "60000/60000 [==============================] - 6s 106us/sample - loss: 0.1584 - accuracy: 0.9518 - val_loss: 0.1593 - val_accuracy: 0.9681\n",
            "Epoch 6/50\n",
            "60000/60000 [==============================] - 6s 106us/sample - loss: 0.1403 - accuracy: 0.9583 - val_loss: 0.1349 - val_accuracy: 0.9732\n",
            "Epoch 7/50\n",
            "60000/60000 [==============================] - 6s 106us/sample - loss: 0.1266 - accuracy: 0.9627 - val_loss: 0.1250 - val_accuracy: 0.9763\n",
            "Epoch 8/50\n",
            "60000/60000 [==============================] - 6s 106us/sample - loss: 0.1170 - accuracy: 0.9644 - val_loss: 0.1110 - val_accuracy: 0.9743\n",
            "Epoch 9/50\n",
            "60000/60000 [==============================] - 6s 106us/sample - loss: 0.1075 - accuracy: 0.9663 - val_loss: 0.1067 - val_accuracy: 0.9787\n",
            "Epoch 10/50\n",
            "60000/60000 [==============================] - 6s 106us/sample - loss: 0.1013 - accuracy: 0.9691 - val_loss: 0.0989 - val_accuracy: 0.9792\n",
            "Epoch 11/50\n",
            "60000/60000 [==============================] - 6s 106us/sample - loss: 0.0948 - accuracy: 0.9705 - val_loss: 0.0953 - val_accuracy: 0.9816\n",
            "Epoch 12/50\n",
            "60000/60000 [==============================] - 6s 106us/sample - loss: 0.0894 - accuracy: 0.9723 - val_loss: 0.0871 - val_accuracy: 0.9821\n",
            "Epoch 13/50\n",
            "60000/60000 [==============================] - 6s 106us/sample - loss: 0.0852 - accuracy: 0.9739 - val_loss: 0.0807 - val_accuracy: 0.9834\n",
            "Epoch 14/50\n",
            "60000/60000 [==============================] - 6s 105us/sample - loss: 0.0828 - accuracy: 0.9746 - val_loss: 0.0778 - val_accuracy: 0.9834\n",
            "Epoch 15/50\n",
            "60000/60000 [==============================] - 7s 109us/sample - loss: 0.0800 - accuracy: 0.9753 - val_loss: 0.0797 - val_accuracy: 0.9848\n",
            "Epoch 16/50\n",
            "60000/60000 [==============================] - 6s 106us/sample - loss: 0.0761 - accuracy: 0.9765 - val_loss: 0.0730 - val_accuracy: 0.9835\n",
            "Epoch 17/50\n",
            "60000/60000 [==============================] - 6s 106us/sample - loss: 0.0727 - accuracy: 0.9777 - val_loss: 0.0667 - val_accuracy: 0.9851\n",
            "Epoch 18/50\n",
            "60000/60000 [==============================] - 6s 107us/sample - loss: 0.0690 - accuracy: 0.9782 - val_loss: 0.0643 - val_accuracy: 0.9868\n",
            "Epoch 19/50\n",
            "60000/60000 [==============================] - 6s 106us/sample - loss: 0.0668 - accuracy: 0.9797 - val_loss: 0.0630 - val_accuracy: 0.9858\n",
            "Epoch 20/50\n",
            "60000/60000 [==============================] - 6s 106us/sample - loss: 0.0656 - accuracy: 0.9795 - val_loss: 0.0635 - val_accuracy: 0.9852\n",
            "Epoch 21/50\n",
            "60000/60000 [==============================] - 6s 106us/sample - loss: 0.0633 - accuracy: 0.9802 - val_loss: 0.0608 - val_accuracy: 0.9866\n",
            "Epoch 22/50\n",
            "60000/60000 [==============================] - 6s 105us/sample - loss: 0.0630 - accuracy: 0.9812 - val_loss: 0.0576 - val_accuracy: 0.9877\n",
            "Epoch 23/50\n",
            "60000/60000 [==============================] - 6s 105us/sample - loss: 0.0603 - accuracy: 0.9815 - val_loss: 0.0544 - val_accuracy: 0.9875\n",
            "Epoch 24/50\n",
            "60000/60000 [==============================] - 6s 105us/sample - loss: 0.0582 - accuracy: 0.9817 - val_loss: 0.0553 - val_accuracy: 0.9867\n",
            "Epoch 25/50\n",
            "60000/60000 [==============================] - 6s 105us/sample - loss: 0.0579 - accuracy: 0.9822 - val_loss: 0.0557 - val_accuracy: 0.9877\n",
            "Epoch 26/50\n",
            "60000/60000 [==============================] - 6s 105us/sample - loss: 0.0566 - accuracy: 0.9823 - val_loss: 0.0569 - val_accuracy: 0.9868\n",
            "Epoch 27/50\n",
            "60000/60000 [==============================] - 6s 106us/sample - loss: 0.0557 - accuracy: 0.9825 - val_loss: 0.0527 - val_accuracy: 0.9880\n",
            "Epoch 28/50\n",
            "60000/60000 [==============================] - 6s 105us/sample - loss: 0.0535 - accuracy: 0.9831 - val_loss: 0.0502 - val_accuracy: 0.9890\n",
            "Epoch 29/50\n",
            "60000/60000 [==============================] - 6s 107us/sample - loss: 0.0526 - accuracy: 0.9839 - val_loss: 0.0536 - val_accuracy: 0.9885\n",
            "Epoch 30/50\n",
            "60000/60000 [==============================] - 7s 111us/sample - loss: 0.0523 - accuracy: 0.9833 - val_loss: 0.0507 - val_accuracy: 0.9894\n",
            "Epoch 31/50\n",
            "60000/60000 [==============================] - 6s 106us/sample - loss: 0.0505 - accuracy: 0.9840 - val_loss: 0.0493 - val_accuracy: 0.9890\n",
            "Epoch 32/50\n",
            "60000/60000 [==============================] - 6s 105us/sample - loss: 0.0479 - accuracy: 0.9849 - val_loss: 0.0466 - val_accuracy: 0.9892\n",
            "Epoch 33/50\n",
            "60000/60000 [==============================] - 6s 105us/sample - loss: 0.0471 - accuracy: 0.9848 - val_loss: 0.0458 - val_accuracy: 0.9905\n",
            "Epoch 34/50\n",
            "60000/60000 [==============================] - 6s 105us/sample - loss: 0.0466 - accuracy: 0.9852 - val_loss: 0.0468 - val_accuracy: 0.9877\n",
            "Epoch 35/50\n",
            "60000/60000 [==============================] - 6s 106us/sample - loss: 0.0457 - accuracy: 0.9857 - val_loss: 0.0464 - val_accuracy: 0.9894\n",
            "Epoch 36/50\n",
            "60000/60000 [==============================] - 6s 105us/sample - loss: 0.0434 - accuracy: 0.9863 - val_loss: 0.0454 - val_accuracy: 0.9901\n",
            "Epoch 37/50\n",
            "60000/60000 [==============================] - 6s 106us/sample - loss: 0.0443 - accuracy: 0.9854 - val_loss: 0.0448 - val_accuracy: 0.9900\n",
            "Epoch 38/50\n",
            "60000/60000 [==============================] - 6s 106us/sample - loss: 0.0424 - accuracy: 0.9873 - val_loss: 0.0433 - val_accuracy: 0.9906\n",
            "Epoch 39/50\n",
            "60000/60000 [==============================] - 6s 106us/sample - loss: 0.0414 - accuracy: 0.9869 - val_loss: 0.0409 - val_accuracy: 0.9900\n",
            "Epoch 40/50\n",
            "60000/60000 [==============================] - 6s 105us/sample - loss: 0.0411 - accuracy: 0.9869 - val_loss: 0.0426 - val_accuracy: 0.9903\n",
            "Epoch 41/50\n",
            "60000/60000 [==============================] - 6s 105us/sample - loss: 0.0407 - accuracy: 0.9871 - val_loss: 0.0397 - val_accuracy: 0.9905\n",
            "Epoch 42/50\n",
            "60000/60000 [==============================] - 6s 105us/sample - loss: 0.0403 - accuracy: 0.9872 - val_loss: 0.0409 - val_accuracy: 0.9909\n",
            "Epoch 43/50\n",
            "60000/60000 [==============================] - 6s 106us/sample - loss: 0.0388 - accuracy: 0.9880 - val_loss: 0.0412 - val_accuracy: 0.9904\n",
            "Epoch 44/50\n",
            "60000/60000 [==============================] - 6s 105us/sample - loss: 0.0401 - accuracy: 0.9874 - val_loss: 0.0409 - val_accuracy: 0.9903\n",
            "Epoch 45/50\n",
            "60000/60000 [==============================] - 6s 105us/sample - loss: 0.0373 - accuracy: 0.9880 - val_loss: 0.0392 - val_accuracy: 0.9906\n",
            "Epoch 46/50\n",
            "60000/60000 [==============================] - 6s 105us/sample - loss: 0.0370 - accuracy: 0.9882 - val_loss: 0.0387 - val_accuracy: 0.9914\n",
            "Epoch 47/50\n",
            "60000/60000 [==============================] - 6s 105us/sample - loss: 0.0371 - accuracy: 0.9883 - val_loss: 0.0381 - val_accuracy: 0.9902\n",
            "Epoch 48/50\n",
            "60000/60000 [==============================] - 6s 106us/sample - loss: 0.0380 - accuracy: 0.9877 - val_loss: 0.0433 - val_accuracy: 0.9892\n",
            "Epoch 49/50\n",
            "60000/60000 [==============================] - 6s 107us/sample - loss: 0.0357 - accuracy: 0.9885 - val_loss: 0.0360 - val_accuracy: 0.9906\n",
            "Epoch 50/50\n",
            "60000/60000 [==============================] - 6s 105us/sample - loss: 0.0350 - accuracy: 0.9894 - val_loss: 0.0381 - val_accuracy: 0.9905\n"
          ],
          "name": "stdout"
        }
      ]
    },
    {
      "cell_type": "markdown",
      "metadata": {
        "id": "wtoFy7hdrL2U",
        "colab_type": "text"
      },
      "source": [
        "The following two graphs show how the __accuracy__ and __loss__ measures evolves while training the network."
      ]
    },
    {
      "cell_type": "code",
      "metadata": {
        "id": "MaAA7rJlhBe5",
        "colab_type": "code",
        "colab": {
          "base_uri": "https://localhost:8080/",
          "height": 241
        },
        "outputId": "6e458de9-0f8d-4498-8f32-8c19fee5dca9"
      },
      "source": [
        "# Plot training & validation accuracy values\n",
        "plt.figure(figsize=(9,3))\n",
        "plt.subplot(1,2,1)\n",
        "plt.plot(history.history['accuracy'])\n",
        "plt.plot(history.history['val_accuracy'])\n",
        "plt.title('Model accuracy')\n",
        "plt.ylabel('Accuracy')\n",
        "plt.xlabel('Epoch')\n",
        "plt.legend(['Train', 'Test'], loc='lower right')\n",
        "plt.subplot(1,2,2)\n",
        "# Plot training & validation loss values\n",
        "plt.plot(history.history['loss'])\n",
        "plt.plot(history.history['val_loss'])\n",
        "plt.title('Model loss')\n",
        "plt.ylabel('Loss')\n",
        "plt.xlabel('Epoch')\n",
        "plt.legend(['Train', 'Test'], loc='upper right');"
      ],
      "execution_count": 8,
      "outputs": [
        {
          "output_type": "display_data",
          "data": {
            "image/png": "[encoded data removed]",
            "text/plain": [
              "<Figure size 648x216 with 2 Axes>"
            ]
          },
          "metadata": {
            "tags": [],
            "needs_background": "light"
          }
        }
      ]
    },
    {
      "cell_type": "markdown",
      "metadata": {
        "id": "JZpuVS90rgCj",
        "colab_type": "text"
      },
      "source": [
        "# Results\n",
        "The CNN trained for 50 epochs already returns pretty good classification performance. "
      ]
    },
    {
      "cell_type": "code",
      "metadata": {
        "colab_type": "code",
        "id": "qxmYpQ35tBn4",
        "outputId": "0937e532-cef4-48ba-b0c7-9cc87dcbb3f8",
        "colab": {
          "base_uri": "https://localhost:8080/",
          "height": 51
        }
      },
      "source": [
        "(v_l,v_a)=model.evaluate(x_test2,y_test2)\n",
        "print(\"Validation loss: %.2f, Validation accuracy: %.2f\" %(v_l,v_a))"
      ],
      "execution_count": 9,
      "outputs": [
        {
          "output_type": "stream",
          "text": [
            "10000/10000 [==============================] - 1s 128us/sample - loss: 0.0381 - accuracy: 0.9905\n",
            "Validation loss: 0.04, Validation accuracy: 0.99\n"
          ],
          "name": "stdout"
        }
      ]
    },
    {
      "cell_type": "markdown",
      "metadata": {
        "id": "q9vMJbbRrsWP",
        "colab_type": "text"
      },
      "source": [
        "The following example shows the result of the classification of three digits. The input images are shown in the left column, whereas the right column shows the output probability $P(N)$ where $N$ is the label (i.e. the digit)."
      ]
    },
    {
      "cell_type": "code",
      "metadata": {
        "colab_type": "code",
        "id": "D9QU5O81tu8p",
        "outputId": "830a11cc-278f-4020-8dad-81817fa8ae62",
        "colab": {
          "base_uri": "https://localhost:8080/",
          "height": 609
        }
      },
      "source": [
        "plt.figure(figsize=(10,10))\n",
        "for i in range(3):\n",
        "  x=x_test2[i,:,:,:].reshape((1,28,28,1))\n",
        "  y=y_test2[i]\n",
        "  res=model.predict(x)\n",
        "  plt.subplot(3,2,2*i+1)\n",
        "  plt.imshow(x_test2[i,:,:,0])\n",
        "  plt.axis('off')\n",
        "  plt.subplot(3,2,2*i+2)\n",
        "  plt.bar(np.r_[0:10],res[0])\n",
        "  plt.xticks(np.r_[0:10],np.r_[0:10]);\n",
        "  plt.ylabel('P(N)')\n",
        "  plt.xlabel('N')"
      ],
      "execution_count": 10,
      "outputs": [
        {
          "output_type": "display_data",
          "data": {
            "image/png": "[encoded data removed]",
            "text/plain": [
              "<Figure size 720x720 with 6 Axes>"
            ]
          },
          "metadata": {
            "tags": [],
            "needs_background": "light"
          }
        }
      ]
    }
  ]
}