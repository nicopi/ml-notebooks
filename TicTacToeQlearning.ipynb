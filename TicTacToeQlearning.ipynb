{
  "nbformat": 4,
  "nbformat_minor": 0,
  "metadata": {
    "colab": {
      "name": "TicTacToeQlearning.ipynb",
      "provenance": [],
      "collapsed_sections": [],
      "authorship_tag": "ABX9TyPQWcqwgfPwsN8QmnEBv4n5"
    },
    "kernelspec": {
      "name": "python3",
      "display_name": "Python 3"
    }
  },
  "cells": [
    {
      "cell_type": "markdown",
      "metadata": {
        "id": "n6QqMP2MMWDR",
        "colab_type": "text"
      },
      "source": [
        "# Q learning for Tic Tac Toe\n"
      ]
    },
    {
      "cell_type": "code",
      "metadata": {
        "id": "vagtVZkfygew",
        "colab_type": "code",
        "colab": {}
      },
      "source": [
        "import matplotlib.pyplot as plt\n",
        "import numpy as np\n",
        "\n",
        "%matplotlib inline"
      ],
      "execution_count": 0,
      "outputs": []
    },
    {
      "cell_type": "code",
      "metadata": {
        "id": "WoEUvnvaz52k",
        "colab_type": "code",
        "colab": {}
      },
      "source": [
        "class Game:\n",
        "  \"\"\"\n",
        "    A class used to represent a tic-tac-toe game\n",
        "\n",
        "    ...\n",
        "\n",
        "    Methods\n",
        "    -------\n",
        "    isFree(pos)\n",
        "        returns True if position pos in the board is free\n",
        "      \n",
        "    availableMoves(self)\n",
        "        returns a list of the available positions in the board\n",
        "\n",
        "    canPlay(player)\n",
        "        returns True if player can make a move\n",
        "\n",
        "    isOver()\n",
        "        returns True if the game is over\n",
        "\n",
        "    move(player,pos,verbose=True)\n",
        "        makes player move to position pos\n",
        "    \n",
        "    verify()\n",
        "        check the status of the game (still on, winners, drawn)\n",
        "    \n",
        "    getState()\n",
        "        return a vector representing the state of the game\n",
        "    \n",
        "    print()\n",
        "        print the board of the game\n",
        "    \"\"\"\n",
        "\n",
        "  def __init__(self):\n",
        "    self.matrix=np.zeros([3,3]) #game board\n",
        "    self.lastplayer=0           # last player who moved\n",
        "    self.moves=0                # number of performed moves in the game\n",
        "    self.won=False              # flag (anyone won?)\n",
        "\n",
        "  def freeSpace(self,pos):\n",
        "    row=int(np.floor(pos/3))\n",
        "    col=int(np.mod(pos,3))\n",
        "    if self.matrix[row,col]==0:\n",
        "      return True\n",
        "    else:\n",
        "      return False\n",
        "  \n",
        "  def availableMoves(self):\n",
        "    mat2vec=self.matrix.flatten()\n",
        "    return np.where(mat2vec==0)[0]\n",
        "\n",
        "  def canPlay(self, player):\n",
        "    if (self.lastplayer!=player or self.lastplayer==0) and not self.isOver():\n",
        "      # if not the last player and the game is not over\n",
        "      return True\n",
        "    else:\n",
        "      return False\n",
        "\n",
        "  def isOver(self):\n",
        "    # check the status of the game\n",
        "    self.verify()\n",
        "    if self.moves==9 or self.won:\n",
        "      # if the max number of moves has been performed or there is a winner\n",
        "      return True\n",
        "    else:\n",
        "      return False\n",
        "\n",
        "  def move(self,player,pos,verbose=False):\n",
        "    if self.canPlay(player):\n",
        "      # if it is the player turn\n",
        "      if self.freeSpace(pos):\n",
        "        # if the position is available\n",
        "        row=int(np.floor(pos/3))\n",
        "        col=int(np.mod(pos,3))\n",
        "        if player==1:\n",
        "          self.matrix[row,col]=-1\n",
        "        else:\n",
        "          self.matrix[row,col]=1\n",
        "        self.lastplayer=player\n",
        "        self.moves+=1\n",
        "        return True\n",
        "      else:\n",
        "        if verbose: print('Cannot play on this cell.')\n",
        "        return False\n",
        "    else:\n",
        "      if verbose: print('This player cannot play now.')\n",
        "      return False\n",
        "  \n",
        "  def verify(self):\n",
        "    rows=np.sum(self.matrix,axis=0)\n",
        "    cols=np.sum(self.matrix,axis=1)\n",
        "    diag1=self.matrix[0,0]+self.matrix[1,1]+self.matrix[2,2]\n",
        "    diag2=self.matrix[2,0]+self.matrix[1,1]+self.matrix[0,2]\n",
        "    status=-1\n",
        "    if any(rows==-3) or any(cols==-3) or diag1==-3 or diag2==-3:\n",
        "      # check if player 1 won\n",
        "      self.won=True\n",
        "      status=1\n",
        "    elif any(rows==3) or any(cols==3) or diag1==3 or diag2==3:\n",
        "      # check if player 2 won\n",
        "      self.won=True\n",
        "      status=2\n",
        "    elif self.moves==9:\n",
        "      # check if the game is drawn\n",
        "      status=0\n",
        "    return status\n",
        "\n",
        "  def getState(self):\n",
        "    return (self.matrix.flatten()+1).astype('int')\n",
        "\n",
        "  def print(self):\n",
        "    mat2=self.matrix.copy()\n",
        "    mat2 = self.matrix.astype(str)  #change data type of array to string\n",
        "    mat2[mat2=='-1.0']='X'\n",
        "    mat2[mat2=='0.0']=' '\n",
        "    mat2[mat2=='1.0']='O'\n",
        "    print('-------------\\n| %s | %s | %s |\\n-------------\\n| %s | %s | %s |\\n-------------\\n| %s | %s | %s |\\n-------------' % (mat2[0,0],mat2[0, 1],mat2[0,2],mat2[1,0],mat2[1, 1],mat2[1,2],mat2[2,0],mat2[2, 1],mat2[2,2]))\n",
        "\n",
        "    \n"
      ],
      "execution_count": 0,
      "outputs": []
    },
    {
      "cell_type": "markdown",
      "metadata": {
        "id": "Ho-1ceZ4Mhlp",
        "colab_type": "text"
      },
      "source": [
        "The following code simulate 10.000 games in which the players randomly choose the cell where to play. Finally, the probability of drawn, player 1 winning, and player 2 winning are computed."
      ]
    },
    {
      "cell_type": "code",
      "metadata": {
        "id": "D19kkpLV2mOh",
        "colab_type": "code",
        "outputId": "3a4c88b5-5f13-4fd3-9a09-9b54f5420f4a",
        "colab": {
          "base_uri": "https://localhost:8080/",
          "height": 34
        }
      },
      "source": [
        "# Simulate 10.000 games and find the probability of drawn, player 1 win and player 2 win when playing randomly\n",
        "resvec=np.zeros([1,3])\n",
        "for game in range(0,10000):\n",
        "  g=Game()\n",
        "  vector=np.r_[0:9]\n",
        "  np.random.shuffle(vector)\n",
        "  i=0\n",
        "  player=1\n",
        "  while not g.isOver():\n",
        "    g.move(player,vector[i])\n",
        "    i+=1\n",
        "    res=g.verify()\n",
        "    if player==1:\n",
        "      player=2\n",
        "    else:\n",
        "      player=1\n",
        "  resvec[0,res]+=1\n",
        "print(resvec/10000)  "
      ],
      "execution_count": 3,
      "outputs": [
        {
          "output_type": "stream",
          "text": [
            "[[0.1344 0.5763 0.2893]]\n"
          ],
          "name": "stdout"
        }
      ]
    },
    {
      "cell_type": "markdown",
      "metadata": {
        "id": "69KTkGUgM3Rn",
        "colab_type": "text"
      },
      "source": [
        "# Player vs Random class\n",
        "The following class extends the Game class by allowing a player to play vs a random player (i.e., computer)"
      ]
    },
    {
      "cell_type": "code",
      "metadata": {
        "id": "jtSklFNWItk5",
        "colab_type": "code",
        "colab": {}
      },
      "source": [
        "# player vs random\n",
        "class IntGame:\n",
        "  def __init__(self,player,strategy='R'):\n",
        "    self.g=Game()\n",
        "    self.player=player     # Human player\n",
        "    self.strategy=strategy #Adopted strategy, R-random player, B-boring player\n",
        "    if player==1:\n",
        "      self.machine=2\n",
        "    else:\n",
        "      self.machine=1\n",
        "\n",
        "    if self.machine==1:\n",
        "      #player 1 start\n",
        "      pos=np.random.randint(9)\n",
        "      self.g.move(1,pos)\n",
        "\n",
        "  def move(self,pos,verbose=False):\n",
        "    res=self.g.move(self.player,pos)\n",
        "    if verbose:\n",
        "      self.g.print()\n",
        "    return res\n",
        "\n",
        "  def opponentMove(self,verbose=False):\n",
        "      resmachine=False\n",
        "      while resmachine==False and not self.g.isOver() and self.g.canPlay(self.machine):\n",
        "        listmoves=self.g.availableMoves()\n",
        "        if self.strategy=='R':\n",
        "          pos=listmoves[np.random.randint(np.size(listmoves))]\n",
        "        else:\n",
        "          pos=listmoves[0]\n",
        "        resmachine=self.g.move(self.machine,pos,'True')\n",
        "      if verbose:\n",
        "        self.g.print()\n",
        "\n",
        "  def verify(self):\n",
        "    res=self.g.verify()\n",
        "    return res\n",
        "\n",
        "  def getState(self):\n",
        "    return self.g.getState()\n",
        "\n",
        "  def isOver(self):\n",
        "    return self.g.isOver()\n",
        "  \n",
        "  def availableMoves(self):\n",
        "    return self.g.availableMoves()\n",
        "\n",
        "  def getMoves(self):\n",
        "    return self.g.getMoves()\n"
      ],
      "execution_count": 0,
      "outputs": []
    },
    {
      "cell_type": "markdown",
      "metadata": {
        "id": "5sO8D_utNf7D",
        "colab_type": "text"
      },
      "source": [
        "## Q learning agent\n",
        "The following class define the Q learning agent"
      ]
    },
    {
      "cell_type": "code",
      "metadata": {
        "id": "JaDYTTfhJfLk",
        "colab_type": "code",
        "colab": {}
      },
      "source": [
        "class Qagent:\n",
        "  def __init__(self,alpha,gamma,eps):\n",
        "    self.alpha=alpha\n",
        "    self.gamma=gamma\n",
        "    self.eps=eps\n",
        "    self.Qtable=np.zeros([3,3,3,3,3,3,3,3,3,9])\n",
        "\n",
        "  def updateQtable(self,state,action,reward,newstate):\n",
        "    oldQvalue = self.Qtable[state[0],state[1],state[2],state[3],state[4],state[5],state[6],state[7],state[8],action]\n",
        "    maxNext = np.max(self.Qtable[newstate[0],newstate[1],newstate[2],newstate[3],newstate[4],newstate[5],newstate[6],newstate[7],newstate[8],:])\n",
        "    self.Qtable[state[0],state[1],state[2],state[3],state[4],state[5],state[6],state[7],state[8],action]+= self.alpha * (reward+self.gamma*maxNext - oldQvalue)\n",
        "\n",
        "  def getAction(self, state):\n",
        "    return np.argmax(self.Qtable[state[0],state[1],state[2],state[3],state[4],state[5],state[6],state[7],state[8],:])"
      ],
      "execution_count": 0,
      "outputs": []
    },
    {
      "cell_type": "markdown",
      "metadata": {
        "id": "EQdQw_JwNo6s",
        "colab_type": "text"
      },
      "source": [
        "The following simulation allows training the Q learning agent by playing vs a random player."
      ]
    },
    {
      "cell_type": "code",
      "metadata": {
        "id": "ErYOX-rWp4oK",
        "colab_type": "code",
        "colab": {}
      },
      "source": [
        "numsim=30000\n",
        "#stateaction=np.zeros([3,3,3,3,3,3,3,3,3,9])\n",
        "alpha=0.2\n",
        "gamma=0.9\n",
        "epsilon=0.1\n",
        "winvec=np.zeros([numsim,1])\n",
        "player=2\n",
        "\n",
        "agent = Qagent(alpha,gamma,epsilon)\n",
        "\n",
        "for i in range(0,numsim):\n",
        "  #create new game\n",
        "\n",
        "  gi=IntGame(player,'R')\n",
        "  while not gi.isOver():\n",
        "    # check the state of the game\n",
        "    state=gi.getState()\n",
        "\n",
        "    #make an action considering e-greedy policy\n",
        "    res=False\n",
        "    while res==False:\n",
        "      if np.random.random(1)<=epsilon:\n",
        "        #random action\n",
        "        moves=gi.availableMoves()\n",
        "        action = moves[np.random.randint(np.size(moves))]\n",
        "      else:\n",
        "        action = agent.getAction(state)\n",
        "      res=gi.move(action)\n",
        "      \n",
        "    gi.opponentMove()\n",
        "\n",
        "    \n",
        "    #check new state of the environment\n",
        "    newstate=gi.getState()\n",
        "\n",
        "    res=gi.verify()\n",
        "    r = 1* (res==player) + 0\n",
        "\n",
        "\n",
        "    #update the Q-table\n",
        "    agent.updateQtable(state,action,r,newstate)\n",
        "    \n",
        "  winvec[i] = gi.verify()==player  "
      ],
      "execution_count": 0,
      "outputs": []
    },
    {
      "cell_type": "markdown",
      "metadata": {
        "id": "WfrM6Of-OELz",
        "colab_type": "text"
      },
      "source": [
        "Finally, we can plot the probability of victory for the Q learning agent."
      ]
    },
    {
      "cell_type": "code",
      "metadata": {
        "id": "lTBBUg54Ozxp",
        "colab_type": "code",
        "outputId": "94001081-2ac1-47eb-b1ec-cf68299a36dc",
        "colab": {
          "base_uri": "https://localhost:8080/",
          "height": 296
        }
      },
      "source": [
        "vec=np.zeros([numsim-500,1])\n",
        "for i in range(500,numsim):\n",
        "  vec[i-500]=np.sum(winvec[i-500:i])/500\n",
        "plt.plot(vec)\n",
        "plt.xlabel('# of training games')\n",
        "plt.ylabel('Probability of winning')"
      ],
      "execution_count": 13,
      "outputs": [
        {
          "output_type": "execute_result",
          "data": {
            "text/plain": [
              "Text(0, 0.5, 'Probability of winning')"
            ]
          },
          "metadata": {
            "tags": []
          },
          "execution_count": 13
        },
        {
          "output_type": "display_data",
          "data": {
            "image/png": "[encoded data removed]",
            "text/plain": [
              "<Figure size 432x288 with 1 Axes>"
            ]
          },
          "metadata": {
            "tags": []
          }
        }
      ]
    },
    {
      "cell_type": "markdown",
      "metadata": {
        "id": "9YR6i4AmORzv",
        "colab_type": "text"
      },
      "source": [
        "# Extra"
      ]
    },
    {
      "cell_type": "code",
      "metadata": {
        "id": "GNNtGVjUIPKB",
        "colab_type": "code",
        "colab": {}
      },
      "source": [
        "# Human vs random\n",
        "class IntGameRL:\n",
        "  def __init__(self,player,Qagent):\n",
        "    self.g=Game()\n",
        "    self.player=player\n",
        "    if player==1:\n",
        "      self.machine=2\n",
        "    else:\n",
        "      self.machine=1\n",
        "\n",
        "    if self.machine==1:\n",
        "      #player 1 start\n",
        "      self.g.move(1,Qagent.getAction(self.g.getState()))\n",
        "\n",
        "  def move(self,pos,verbose=False):\n",
        "    res=self.g.move(self.player,pos)\n",
        "    if verbose:\n",
        "      self.g.print()\n",
        "    return res\n",
        "\n",
        "  def opponentMove(self,verbose=False):\n",
        "      resmachine=False\n",
        "      while resmachine==False:\n",
        "        state=gi.getState()\n",
        "        if np.random.random(1)<=epsilon:\n",
        "          #random action\n",
        "          moves=gi.availableMoves()\n",
        "          action = moves[np.random.randint(np.size(moves))]\n",
        "        else:\n",
        "          action = agent.getAction(state)\n",
        "        resmachine=self.g.move(self.machine,action)\n",
        "\n",
        "      if verbose:\n",
        "        self.g.print()\n",
        "\n",
        "  def verify(self):\n",
        "    res=self.g.verify()\n",
        "    return res\n",
        "\n",
        "  def getState(self):\n",
        "    return self.g.getState()\n",
        "\n",
        "  def isOver(self):\n",
        "    return self.g.isOver()\n",
        "  \n",
        "  def availableMoves(self):\n",
        "    return self.g.availableMoves()\n",
        "\n",
        "  def print(self):\n",
        "    return self.g.print()"
      ],
      "execution_count": 0,
      "outputs": []
    },
    {
      "cell_type": "code",
      "metadata": {
        "id": "PboGHxoM0J-y",
        "colab_type": "code",
        "outputId": "8055c68d-2dfb-4998-8ed0-0e4edcd264ff",
        "colab": {
          "base_uri": "https://localhost:8080/",
          "height": 799
        }
      },
      "source": [
        "player=2\n",
        "gi=IntGameRL(player,agent)\n",
        "gi.print()\n",
        "while not gi.isOver():\n",
        "  position = int(input('Play (1-9) '))\n",
        "  gi.move(position-1,True)\n",
        "  if not gi.isOver():\n",
        "    gi.opponentMove(True)\n",
        "res=gi.verify()\n",
        "if res==-1:\n",
        "  print('Drawn')\n",
        "elif res==player:\n",
        "  print(\"You Win!\")\n",
        "else:\n",
        "  print('Computer Win')\n"
      ],
      "execution_count": 21,
      "outputs": [
        {
          "output_type": "stream",
          "text": [
            "-------------\n",
            "| X |   |   |\n",
            "-------------\n",
            "|   |   |   |\n",
            "-------------\n",
            "|   |   |   |\n",
            "-------------\n",
            "Play (1-9) 5\n",
            "-------------\n",
            "| X |   |   |\n",
            "-------------\n",
            "|   | O |   |\n",
            "-------------\n",
            "|   |   |   |\n",
            "-------------\n",
            "-------------\n",
            "| X | X |   |\n",
            "-------------\n",
            "|   | O |   |\n",
            "-------------\n",
            "|   |   |   |\n",
            "-------------\n",
            "Play (1-9) 3\n",
            "-------------\n",
            "| X | X | O |\n",
            "-------------\n",
            "|   | O |   |\n",
            "-------------\n",
            "|   |   |   |\n",
            "-------------\n",
            "-------------\n",
            "| X | X | O |\n",
            "-------------\n",
            "|   | O |   |\n",
            "-------------\n",
            "|   | X |   |\n",
            "-------------\n",
            "Play (1-9) 7\n",
            "-------------\n",
            "| X | X | O |\n",
            "-------------\n",
            "|   | O |   |\n",
            "-------------\n",
            "| O | X |   |\n",
            "-------------\n",
            "You Win!\n"
          ],
          "name": "stdout"
        }
      ]
    }
  ]
}